{
 "cells": [
  {
   "cell_type": "code",
   "execution_count": null,
   "id": "a5a29e00-03a1-4f1e-a9ba-c024fca96d0e",
   "metadata": {},
   "outputs": [],
   "source": [
    "#Xplane gymanasium\n"
   ]
  }
 ],
 "metadata": {
  "kernelspec": {
   "display_name": "Python 3 (ipykernel)",
   "language": "python",
   "name": "python3"
  },
  "language_info": {
   "codemirror_mode": {
    "name": "ipython",
    "version": 3
   },
   "file_extension": ".py",
   "mimetype": "text/x-python",
   "name": "python",
   "nbconvert_exporter": "python",
   "pygments_lexer": "ipython3",
   "version": "3.12.3"
  }
 },
 "nbformat": 4,
 "nbformat_minor": 5
}
